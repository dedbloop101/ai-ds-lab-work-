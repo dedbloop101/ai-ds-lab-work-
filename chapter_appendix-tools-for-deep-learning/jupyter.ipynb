{
  "cells": [
    {
      "cell_type": "code",
      "source": [
        "#Experiment 1: Solving the Water Jug Problem using Python\n",
        "#objective: To understand the basics of Artificial Intelligence by solving the classical water Jug problem\n",
        "\n",
        "\n",
        "#used to efficiently implement fifo queue\n",
        "from collections import deque\n",
        "\n",
        "#defines a fn water_jug_solver with 3 params.\n",
        "def water_jug_solver(jug1_capacity, jug2_capacity, target):\n",
        "  visited = set() # keeps track of all the visited states to avoid repeating them\n",
        "  queue = deque() # Initializes a queue for bfs to hold the jug states(amnts in jug1 and jug2).\n",
        "  queue.append((0,0)) # starts with both jugs empty: initial state is (0,0).\n",
        "  while queue:  # continues looping untill the queue is empty (all possible states explored).\n",
        "    state = queue.popleft() # dequeues(pops from the front) the current state to explore.\n",
        "    if state in visited: # skips processing if this state was already visited before\n",
        "      continue\n",
        "    visited.add(state)\n",
        "    (a,b) = state\n",
        "    print(f\"Jug1: {a}L, Jug2{b}L\")\n",
        "    if a == target or b == target:\n",
        "      print(\"Target Achieved\")\n",
        "      return\n",
        "    possible_states = set() # A set to store all new possible states from the current state.\n",
        "    possible_states.add((jug1_capacity, b)) # fills jug1 capacity; jug2 remains the same\n",
        "    possible_states.add((a, jug2_capacity)) # fills jug2 capacity; jug1 remains the same\n",
        "    possible_states.add((0,b)) # empty jug1; jug2 remains the same\n",
        "    possible_states.add((a,0)) # empty jug2; jug1 remains the same\n",
        "    pour_to_jug2 = min(a, jug2_capacity- b) # pour water between jugs,,, poured from jug1 to jug2\n",
        "    pour_to_jug1 = min(b, jug1_capacity- a) # pour water between jugs,,, poured from jug2 to jug1\n",
        "    possible_states.add((a - pour_to_jug2, b + pour_to_jug2)) #pour from jug1 to jug2\n",
        "    possible_states.add((a + pour_to_jug1, b - pour_to_jug1)) #pour from jug2 to jug1\n",
        "    queue.extend(possible_states)\n",
        "water_jug_solver(4,3,2) #calls the function\n",
        "\n",
        "\n",
        "\n",
        "\n",
        "\n"
      ],
      "metadata": {
        "colab": {
          "base_uri": "https://localhost:8080/"
        },
        "id": "aLrwTJMhUl_m",
        "outputId": "a178581b-ee9e-4fdb-93aa-a01719fb790f"
      },
      "id": "aLrwTJMhUl_m",
      "execution_count": 3,
      "outputs": [
        {
          "output_type": "stream",
          "name": "stdout",
          "text": [
            "Jug1: 0L, Jug20L\n",
            "Jug1: 4L, Jug20L\n",
            "Jug1: 0L, Jug23L\n",
            "Jug1: 1L, Jug23L\n",
            "Jug1: 4L, Jug23L\n",
            "Jug1: 3L, Jug20L\n",
            "Jug1: 1L, Jug20L\n",
            "Jug1: 3L, Jug23L\n",
            "Jug1: 0L, Jug21L\n",
            "Jug1: 4L, Jug22L\n",
            "Target Achieved\n"
          ]
        }
      ]
    },
    {
      "cell_type": "code",
      "source": [
        "#Experiment 2: calculate Descriptive Statistics for a dataset\n",
        "# Objective: to compute mean. median, mode, standard deviation, skewness and kurtosis using python.\n",
        "\n",
        "#code:\n",
        "data = [4.1, 2, 5, 8, 16, 8.2, 5, 6.7, 5.5]\n",
        "\n",
        "# Calculate the mean\n",
        "n = len(data)\n",
        "mean = sum(data) / n\n",
        "\n",
        "# Calculate the median\n",
        "sorted_data = sorted(data)\n",
        "if n % 2 == 1:\n",
        "    median = sorted_data[n // 2]\n",
        "else:\n",
        "    median = (sorted_data[n // 2 - 1] + sorted_data[n // 2]) / 2\n",
        "\n",
        "# Calculate the mode\n",
        "freq = {}\n",
        "for num in data:\n",
        "    if num in freq:\n",
        "        freq[num] += 1\n",
        "    else:\n",
        "        freq[num] = 1\n",
        "\n",
        "max_freq = max(freq.values())\n",
        "mode = [key for key, value in freq.items() if value == max_freq]\n",
        "\n",
        "# Calculate the standard deviation\n",
        "sum_sqrd_diff = sum((x - mean) ** 2 for x in data)\n",
        "std_dev = (sum_sqrd_diff / n) ** 0.5\n",
        "\n",
        "print(\"Mean:\", mean)\n",
        "print(\"Median:\", median)\n",
        "print(\"Mode:\", mode)\n",
        "print(\"Standard Deviation:\", std_dev)\n",
        "\n",
        "\n",
        "\n",
        "\n",
        "\n",
        "\n",
        "\n",
        "\n",
        "\n",
        "\n"
      ],
      "metadata": {
        "colab": {
          "base_uri": "https://localhost:8080/"
        },
        "id": "XfuNkiNWXz0s",
        "outputId": "aef78861-f5da-48e8-de8e-34f9caf0d9eb"
      },
      "id": "XfuNkiNWXz0s",
      "execution_count": 13,
      "outputs": [
        {
          "output_type": "stream",
          "name": "stdout",
          "text": [
            "Mean: 6.722222222222222\n",
            "Median: 5.5\n",
            "Mode: [5]\n",
            "Standard Deviation: 3.7490080992704007\n"
          ]
        }
      ]
    }
  ],
  "metadata": {
    "kernelspec": {
      "display_name": "Python 3",
      "name": "python3"
    },
    "language_info": {
      "name": "python"
    },
    "required_libs": [],
    "colab": {
      "provenance": []
    }
  },
  "nbformat": 4,
  "nbformat_minor": 5
}