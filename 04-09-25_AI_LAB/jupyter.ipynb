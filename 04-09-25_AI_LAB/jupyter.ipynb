{
  "cells": [
    {
      "cell_type": "markdown",
      "metadata": {
        "id": "view-in-github",
        "colab_type": "text"
      },
      "source": [
        "<a href=\"https://colab.research.google.com/github/dedbloop101/ai-ds-lab-work-/blob/main/04-09-25_AI_LAB/jupyter.ipynb\" target=\"_parent\"><img src=\"https://colab.research.google.com/assets/colab-badge.svg\" alt=\"Open In Colab\"/></a>"
      ]
    },
    {
      "cell_type": "code",
      "source": [
        "# To implement and understand the working of bfs algorithm for graph traversal.\n",
        "\n",
        "# Import deque from collection\n",
        "# !pip install collection\n",
        "from collections import deque\n",
        "\n",
        "# Define the graph as adjacency list\n",
        "graph = {\n",
        "    'A': ['B', 'C'],\n",
        "    'B': ['D', 'E'],\n",
        "    'C': ['F'],\n",
        "    'D': [],\n",
        "    'E': ['F'],\n",
        "    'F': []\n",
        "}\n",
        "\n",
        "# Define the BFS function\n",
        "\n",
        "def bfs(start):\n",
        "  visited = set()\n",
        "  queue = deque([start])\n",
        "\n",
        "  # Loop until queue becomes empty\n",
        "  while queue:\n",
        "    node = queue.popleft()    # remove the first element from the queue\n",
        "    if node not in visited:   # if the node is not already visited\n",
        "      print(node, end=\" \")    # print the node (traversal order)\n",
        "      visited.add(node)       # add the node to the visited set\n",
        "      queue.extend(graph[node]) # add the neighbors of the node to the queue\n",
        "\n",
        "# Call BFS function starting from node 'A'\n",
        "print(\"BFS Traversal starting from node A: \")\n",
        "bfs('A')"
      ],
      "metadata": {
        "colab": {
          "base_uri": "https://localhost:8080/"
        },
        "id": "D62cso5QfJRs",
        "outputId": "af3f1d02-dec4-4416-8031-479073ad3dad"
      },
      "id": "D62cso5QfJRs",
      "execution_count": 10,
      "outputs": [
        {
          "output_type": "stream",
          "name": "stdout",
          "text": [
            "BFS Traversal starting from node A: \n",
            "A B C D E F "
          ]
        }
      ]
    },
    {
      "cell_type": "code",
      "source": [
        "# To Implement and understand working of DFS Algorithm\n",
        "\n",
        "from collections import deque\n",
        "\n",
        "# Define the graph as adjacency list\n",
        "graph = {\n",
        "    'A': ['B', 'C'],\n",
        "    'B': ['D', 'E'],\n",
        "    'C': ['F'],\n",
        "    'D': [],\n",
        "    'E': ['F'],\n",
        "    'F': []\n",
        "}\n",
        "\n",
        "# DFS implementation\n",
        "def dfs(node, visited=None):\n",
        "    if visited is None:\n",
        "        visited = set()\n",
        "    if node not in visited:\n",
        "        print(node, end=\" \")\n",
        "        visited.add(node)\n",
        "        for neighbor in graph[node]:\n",
        "            dfs(neighbor, visited)\n",
        "\n",
        "# Run DFS starting from 'A'\n",
        "\n",
        "print(\"DFS Traversal starting from node A:\")\n",
        "dfs('A')\n"
      ],
      "metadata": {
        "colab": {
          "base_uri": "https://localhost:8080/"
        },
        "id": "121Ac21LmA0O",
        "outputId": "ac42dbdc-20cd-43a3-c658-b9c3bea9953f"
      },
      "id": "121Ac21LmA0O",
      "execution_count": 13,
      "outputs": [
        {
          "output_type": "stream",
          "name": "stdout",
          "text": [
            "DFS Traversal starting from node A:\n",
            "A B D E F C "
          ]
        }
      ]
    }
  ],
  "metadata": {
    "kernelspec": {
      "display_name": "Python 3",
      "name": "python3"
    },
    "language_info": {
      "name": "python"
    },
    "required_libs": [],
    "colab": {
      "provenance": [],
      "include_colab_link": true
    }
  },
  "nbformat": 4,
  "nbformat_minor": 5
}