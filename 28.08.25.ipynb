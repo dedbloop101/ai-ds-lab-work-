{
  "nbformat": 4,
  "nbformat_minor": 0,
  "metadata": {
    "colab": {
      "provenance": [],
      "authorship_tag": "ABX9TyM2JM/rkC09PMxejlu11qVi",
      "include_colab_link": true
    },
    "kernelspec": {
      "name": "python3",
      "display_name": "Python 3"
    },
    "language_info": {
      "name": "python"
    }
  },
  "cells": [
    {
      "cell_type": "markdown",
      "metadata": {
        "id": "view-in-github",
        "colab_type": "text"
      },
      "source": [
        "<a href=\"https://colab.research.google.com/github/dedbloop101/ai-ds-lab-work-/blob/main/28.08.25.ipynb\" target=\"_parent\"><img src=\"https://colab.research.google.com/assets/colab-badge.svg\" alt=\"Open In Colab\"/></a>"
      ]
    },
    {
      "cell_type": "code",
      "execution_count": 8,
      "metadata": {
        "colab": {
          "base_uri": "https://localhost:8080/"
        },
        "id": "WByiwmfTav8R",
        "outputId": "e515371a-81e6-4124-9cd2-6e714966576f"
      },
      "outputs": [
        {
          "output_type": "stream",
          "name": "stdout",
          "text": [
            "A* path from A to F:\n",
            "['A', 'C', 'F']\n"
          ]
        }
      ],
      "source": [
        "import heapq\n",
        "# Define the A* Function\n",
        "\n",
        "def a_star (start, goal, graph, heuristics):\n",
        "  # Priority queue stores tuples: (estimated_total_cost, cost_so_far, current_node, path_taken)\n",
        "  queue = [(heuristics[start], 0, start, [])]\n",
        "  visited = set()\n",
        "\n",
        "  # Loop until queue becomes empty\n",
        "  while queue:\n",
        "    estimated_total_cost, cost_so_far, node, path = heapq.heappop(queue)\n",
        "\n",
        "    if node in visited:\n",
        "      continue\n",
        "\n",
        "    visited.add(node)       # mark node as visited\n",
        "    path = path + [node]    # add current node to path\n",
        "\n",
        "    # if goal is reached, return the path\n",
        "    if node == goal:\n",
        "      return path\n",
        "\n",
        "    # Explore neighbours\n",
        "    for neighbour, edge_cost in graph[node]:\n",
        "      if neighbour not in visited:\n",
        "        new_cost = cost_so_far + edge_cost                # g(n): path cost so far\n",
        "        new_est_total = new_cost + heuristics[neighbour]  # f(n) = g(n) + h(n)\n",
        "        heapq.heappush(queue, (new_est_total, new_cost, neighbour, path))\n",
        "\n",
        "# define a sample graph (adjacency list with edge costs)\n",
        "graph = {\n",
        "    'A': [('B', 5), ('C', 3)],\n",
        "    'B': [('D', 3), ('E', 1)],\n",
        "    'C': [('F', 5)],\n",
        "    'D': [],\n",
        "    'E': [('F', 2)],\n",
        "    'F': []\n",
        "}\n",
        "# Define heuristic values (straight-line estimated cost to goal 'F')\n",
        "\n",
        "heuristics = {\n",
        "    'A': 6,\n",
        "    'B': 4,\n",
        "    'C': 5,\n",
        "    'D': 2,\n",
        "    'E': 2,\n",
        "    'F': 0\n",
        "}\n",
        "\n",
        "# Run A* from 'A' to 'F'\n",
        "print(\"A* path from A to F:\")\n",
        "print(a_star('A', 'F', graph, heuristics))"
      ]
    }
  ]
}